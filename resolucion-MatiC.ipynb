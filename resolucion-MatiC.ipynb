{
 "cells": [
  {
   "cell_type": "markdown",
   "id": "6f41fed5",
   "metadata": {},
   "source": [
    "## EVALUACIÓN FINAL MÓDULO 1"
   ]
  },
  {
   "cell_type": "markdown",
   "id": "24e654df",
   "metadata": {},
   "source": [
    "### ESTRUCTURA"
   ]
  },
  {
   "cell_type": "code",
   "execution_count": 74,
   "id": "cc6ead43",
   "metadata": {},
   "outputs": [],
   "source": [
    "## LISTA DE DICCIONARIOS\n",
    "\n",
    "inventory_product = []"
   ]
  },
  {
   "cell_type": "code",
   "execution_count": 75,
   "id": "f984b889",
   "metadata": {},
   "outputs": [],
   "source": [
    "inventory_product = [\n",
    "    {'name': 'Printer Canon 253', 'price': 690, 'quantity': 18},\n",
    "    {'name': 'Printer Canon 353', 'price': 1290, 'quantity': 16},\n",
    "    {'name': 'Printer Canon 553', 'price': 2090, 'quantity': 22},\n",
    "    {'name': 'Printer Konica 822', 'price': 580, 'quantity': 9},\n",
    "    {'name': 'Printer Konica 842', 'price': 990, 'quantity': 18},\n",
    "    {'name': 'Printer Konica 862', 'price': 1390, 'quantity': 20},\n",
    "    {'name': 'Printer Lexmar 62C', 'price': 440, 'quantity': 8},\n",
    "    {'name': 'Printer Olivetti 92CC', 'price': 790, 'quantity': 18},\n",
    "    ]"
   ]
  },
  {
   "cell_type": "code",
   "execution_count": 76,
   "id": "d9ddaf5f",
   "metadata": {},
   "outputs": [
    {
     "data": {
      "text/plain": [
       "[{'name': 'Printer Canon 253', 'price': 690, 'quantity': 18},\n",
       " {'name': 'Printer Canon 353', 'price': 1290, 'quantity': 16},\n",
       " {'name': 'Printer Canon 553', 'price': 2090, 'quantity': 22},\n",
       " {'name': 'Printer Konica 822', 'price': 580, 'quantity': 9},\n",
       " {'name': 'Printer Konica 842', 'price': 990, 'quantity': 18},\n",
       " {'name': 'Printer Konica 862', 'price': 1390, 'quantity': 20},\n",
       " {'name': 'Printer Lexmar 62C', 'price': 440, 'quantity': 8},\n",
       " {'name': 'Printer Olivetti 92CC', 'price': 790, 'quantity': 18}]"
      ]
     },
     "execution_count": 76,
     "metadata": {},
     "output_type": "execute_result"
    }
   ],
   "source": [
    "inventory_product"
   ]
  },
  {
   "cell_type": "code",
   "execution_count": 77,
   "id": "055ee500",
   "metadata": {},
   "outputs": [],
   "source": [
    "## DICCIONARIO\n",
    "\n",
    "customers = {}"
   ]
  },
  {
   "cell_type": "code",
   "execution_count": 79,
   "id": "0db7fb64",
   "metadata": {},
   "outputs": [],
   "source": [
    "customers = {\n",
    "  'c1': {'name': 'Serrano Invest SL', 'email': 'sinvest@email.com', 'purchase': []},\n",
    "  'c2': {'name': 'Catalá Abogados', 'email': 'catala_lawyers@email.com', 'purchase': []},\n",
    "  'c3': {'name': 'Pinto & Pinto', 'email': 'pintobis@email.com', 'purchase': []},\n",
    "  'c4': {'name': 'Pradival SL', 'email': 'pradivalt@email.com', 'purchase': []},\n",
    "  'c5': {'name': 'Flores Sunshine', 'email': 'sunshine@email.com', 'purchase': []},\n",
    "  'c6': {'name': 'Seguros Occidente ', 'email': 'occidentet@email.com', 'purchase': []},\n",
    "  'c7': {'name': 'Laura Espí Amor', 'email': 'lauraea@email.com', 'purchase': []},\n",
    "  'c8': {'name': 'Feber Family', 'email': 'feberf@email.com', 'purchase': []}\n",
    "}"
   ]
  },
  {
   "cell_type": "code",
   "execution_count": 80,
   "id": "36c191c4",
   "metadata": {},
   "outputs": [
    {
     "data": {
      "text/plain": [
       "{'c1': {'name': 'Serrano Invest SL',\n",
       "  'email': 'sinvest@email.com',\n",
       "  'purchase': []},\n",
       " 'c2': {'name': 'Catalá Abogados',\n",
       "  'email': 'catala_lawyers@email.com',\n",
       "  'purchase': []},\n",
       " 'c3': {'name': 'Pinto & Pinto',\n",
       "  'email': 'pintobis@email.com',\n",
       "  'purchase': []},\n",
       " 'c4': {'name': 'Pradival SL', 'email': 'pradivalt@email.com', 'purchase': []},\n",
       " 'c5': {'name': 'Flores Sunshine',\n",
       "  'email': 'sunshine@email.com',\n",
       "  'purchase': []},\n",
       " 'c6': {'name': 'Seguros Occidente ',\n",
       "  'email': 'occidentet@email.com',\n",
       "  'purchase': []},\n",
       " 'c7': {'name': 'Laura Espí Amor',\n",
       "  'email': 'lauraea@email.com',\n",
       "  'purchase': []},\n",
       " 'c8': {'name': 'Feber Family', 'email': 'feberf@email.com', 'purchase': []}}"
      ]
     },
     "execution_count": 80,
     "metadata": {},
     "output_type": "execute_result"
    }
   ],
   "source": [
    "customers"
   ]
  },
  {
   "cell_type": "code",
   "execution_count": 81,
   "id": "14d46f83",
   "metadata": {},
   "outputs": [],
   "source": [
    "## float iniciado con valor 0\n",
    "\n",
    "total_sales = 0.0"
   ]
  },
  {
   "cell_type": "markdown",
   "id": "83309af5",
   "metadata": {},
   "source": [
    "### FUNCIONES"
   ]
  },
  {
   "cell_type": "code",
   "execution_count": 71,
   "id": "87708682",
   "metadata": {},
   "outputs": [],
   "source": [
    "## agregar producto\n",
    "\n",
    "def add_product(name, price, quantity):\n",
    "     for product in inventory_product:\n",
    "          if product['name'] == name:\n",
    "               product['quantity'] += quantity\n",
    "               return f'Updated stock'\n",
    "\n",
    "     new_product ={\n",
    "               'name':name,\n",
    "               'price':price,\n",
    "               'quantity':quantity}\n",
    "     inventory_product.append(new_product)\n",
    "     return f'Added product'"
   ]
  },
  {
   "cell_type": "code",
   "execution_count": 82,
   "id": "ee841ae7",
   "metadata": {},
   "outputs": [
    {
     "data": {
      "text/plain": [
       "'Updated stock'"
      ]
     },
     "execution_count": 82,
     "metadata": {},
     "output_type": "execute_result"
    }
   ],
   "source": [
    "add_product('Printer Konica 822', 580, 2)"
   ]
  },
  {
   "cell_type": "code",
   "execution_count": 73,
   "id": "c84bf4a6",
   "metadata": {},
   "outputs": [
    {
     "data": {
      "text/plain": [
       "[{'name': 'Printer Canon 253', 'price': 690, 'quantity': 18},\n",
       " {'name': 'Printer Canon 353', 'price': 1290, 'quantity': 16},\n",
       " {'name': 'Printer Canon 553', 'price': 2090, 'quantity': 22},\n",
       " {'name': 'Printer Konica 822', 'price': 580, 'quantity': 11},\n",
       " {'name': 'Printer Konica 842', 'price': 990, 'quantity': 18},\n",
       " {'name': 'Printer Konica 862', 'price': 1390, 'quantity': 20},\n",
       " {'name': 'Printer Lexmar 62C', 'price': 440, 'quantity': 8},\n",
       " {'name': 'Printer Olivetti 92CC', 'price': 790, 'quantity': 18}]"
      ]
     },
     "execution_count": 73,
     "metadata": {},
     "output_type": "execute_result"
    }
   ],
   "source": [
    "inventory_product"
   ]
  },
  {
   "cell_type": "code",
   "execution_count": 132,
   "id": "32bf1315",
   "metadata": {},
   "outputs": [],
   "source": [
    "## ver inventario\n",
    "\n",
    "def inventory_view(inventory_product):\n",
    "    for product in inventory_product:\n",
    "        print(f\"Name: {product['name']}, Price: ${product['price']}, Quantity: {product['quantity']} units\")"
   ]
  },
  {
   "cell_type": "code",
   "execution_count": 133,
   "id": "0f646ac3",
   "metadata": {},
   "outputs": [
    {
     "name": "stdout",
     "output_type": "stream",
     "text": [
      "Name: Printer Canon 253, Price: $690, Quantity: 18 units\n",
      "Name: Printer Canon 353, Price: $1290, Quantity: 16 units\n",
      "Name: Printer Canon 553, Price: $2090, Quantity: 22 units\n",
      "Name: Printer Konica 822, Price: $580, Quantity: 11 units\n",
      "Name: Printer Konica 842, Price: $990, Quantity: 18 units\n",
      "Name: Printer Konica 862, Price: $1390, Quantity: 20 units\n",
      "Name: Printer Lexmar 62C, Price: $440, Quantity: 8 units\n",
      "Name: Printer Olivetti 92CC, Price: $790, Quantity: 18 units\n"
     ]
    }
   ],
   "source": [
    "inventory_view(inventory_product)"
   ]
  },
  {
   "cell_type": "code",
   "execution_count": null,
   "id": "7d169730",
   "metadata": {},
   "outputs": [],
   "source": [
    "## buscar producto\n",
    "\n",
    "def search_product(name):\n",
    "    for product in inventory_product:\n",
    "        if product['name'] == name:\n",
    "            print(f\"Name: {product['name']}', Price: ${product['price']}, Quantity: {product['quantity']} units\")\n",
    "            break # si uso return me devuelve not found por cada elemento\n",
    "    else:   \n",
    "        print(f'Product not found')"
   ]
  },
  {
   "cell_type": "code",
   "execution_count": 130,
   "id": "cc324bf1",
   "metadata": {},
   "outputs": [
    {
     "name": "stdout",
     "output_type": "stream",
     "text": [
      "Name: Printer Lexmar 62C', Price: $440, Quantity: 8 units\n"
     ]
    }
   ],
   "source": [
    "search_product('Printer Lexmar 62C')"
   ]
  },
  {
   "cell_type": "code",
   "execution_count": 134,
   "id": "7c048380",
   "metadata": {},
   "outputs": [],
   "source": [
    "## actualizar stock\n",
    "\n",
    "def update_stock(name, quantity):\n",
    "    for product in inventory_product:\n",
    "          if product['name'] == name:\n",
    "               product['quantity'] += quantity\n",
    "               return f'Updated stock'\n",
    "    return f'Product not found'"
   ]
  },
  {
   "cell_type": "code",
   "execution_count": 141,
   "id": "a657167e",
   "metadata": {},
   "outputs": [
    {
     "data": {
      "text/plain": [
       "'Updated stock'"
      ]
     },
     "execution_count": 141,
     "metadata": {},
     "output_type": "execute_result"
    }
   ],
   "source": [
    "update_stock('Printer Canon 253',-3)"
   ]
  },
  {
   "cell_type": "code",
   "execution_count": 139,
   "id": "6ffbfc73",
   "metadata": {},
   "outputs": [
    {
     "data": {
      "text/plain": [
       "[{'name': 'Printer Canon 253', 'price': 690, 'quantity': 15},\n",
       " {'name': 'Printer Canon 353', 'price': 1290, 'quantity': 16},\n",
       " {'name': 'Printer Canon 553', 'price': 2090, 'quantity': 22},\n",
       " {'name': 'Printer Konica 822', 'price': 580, 'quantity': 11},\n",
       " {'name': 'Printer Konica 842', 'price': 990, 'quantity': 18},\n",
       " {'name': 'Printer Konica 862', 'price': 1390, 'quantity': 20},\n",
       " {'name': 'Printer Lexmar 62C', 'price': 440, 'quantity': 8},\n",
       " {'name': 'Printer Olivetti 92CC', 'price': 790, 'quantity': 18}]"
      ]
     },
     "execution_count": 139,
     "metadata": {},
     "output_type": "execute_result"
    }
   ],
   "source": [
    "inventory_product"
   ]
  },
  {
   "cell_type": "code",
   "execution_count": null,
   "id": "d38ff7d1",
   "metadata": {},
   "outputs": [],
   "source": []
  }
 ],
 "metadata": {
  "kernelspec": {
   "display_name": "Python 3",
   "language": "python",
   "name": "python3"
  },
  "language_info": {
   "codemirror_mode": {
    "name": "ipython",
    "version": 3
   },
   "file_extension": ".py",
   "mimetype": "text/x-python",
   "name": "python",
   "nbconvert_exporter": "python",
   "pygments_lexer": "ipython3",
   "version": "3.13.3"
  }
 },
 "nbformat": 4,
 "nbformat_minor": 5
}
