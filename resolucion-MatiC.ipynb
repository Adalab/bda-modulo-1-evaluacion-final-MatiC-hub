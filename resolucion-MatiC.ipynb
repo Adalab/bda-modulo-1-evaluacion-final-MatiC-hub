{
 "cells": [
  {
   "cell_type": "markdown",
   "id": "6f41fed5",
   "metadata": {},
   "source": [
    "## EVALUACIÓN FINAL MÓDULO 1"
   ]
  },
  {
   "cell_type": "markdown",
   "id": "24e654df",
   "metadata": {},
   "source": [
    "### 1.- ESTRUCTURA"
   ]
  },
  {
   "cell_type": "code",
   "execution_count": null,
   "id": "cc6ead43",
   "metadata": {},
   "outputs": [],
   "source": [
    "## 1.1.- LISTA DE DICCIONARIOS\n",
    "\n",
    "inventory_product = []"
   ]
  },
  {
   "cell_type": "code",
   "execution_count": 14,
   "id": "f984b889",
   "metadata": {},
   "outputs": [],
   "source": [
    "inventory_product = [\n",
    "    {'name': 'Printer Canon 253', 'price': 690, 'quantity': 18},\n",
    "    {'name': 'Printer Canon 353', 'price': 1290, 'quantity': 16},\n",
    "    {'name': 'Printer Canon 553', 'price': 2090, 'quantity': 22},\n",
    "    {'name': 'Printer Konica 822', 'price': 580, 'quantity': 9},\n",
    "    {'name': 'Printer Konica 842', 'price': 990, 'quantity': 18},\n",
    "    {'name': 'Printer Konica 862', 'price': 1390, 'quantity': 20},\n",
    "    {'name': 'Printer Lexmar 62C', 'price': 440, 'quantity': 8},\n",
    "    {'name': 'Printer Olivetti 92CC', 'price': 790, 'quantity': 18},\n",
    "    ]"
   ]
  },
  {
   "cell_type": "code",
   "execution_count": 15,
   "id": "d9ddaf5f",
   "metadata": {},
   "outputs": [
    {
     "data": {
      "text/plain": [
       "[{'name': 'Printer Canon 253', 'price': 690, 'quantity': 18},\n",
       " {'name': 'Printer Canon 353', 'price': 1290, 'quantity': 16},\n",
       " {'name': 'Printer Canon 553', 'price': 2090, 'quantity': 22},\n",
       " {'name': 'Printer Konica 822', 'price': 580, 'quantity': 9},\n",
       " {'name': 'Printer Konica 842', 'price': 990, 'quantity': 18},\n",
       " {'name': 'Printer Konica 862', 'price': 1390, 'quantity': 20},\n",
       " {'name': 'Printer Lexmar 62C', 'price': 440, 'quantity': 8},\n",
       " {'name': 'Printer Olivetti 92CC', 'price': 790, 'quantity': 18}]"
      ]
     },
     "execution_count": 15,
     "metadata": {},
     "output_type": "execute_result"
    }
   ],
   "source": [
    "inventory_product"
   ]
  },
  {
   "cell_type": "code",
   "execution_count": null,
   "id": "055ee500",
   "metadata": {},
   "outputs": [],
   "source": [
    "## 1.2.- DICCIONARIO\n",
    "\n",
    "customers = {}"
   ]
  },
  {
   "cell_type": "code",
   "execution_count": 178,
   "id": "0db7fb64",
   "metadata": {},
   "outputs": [],
   "source": [
    "customers = {\n",
    "  '1': {'name': 'Serrano Invest SL', 'email': 'sinvest@email.com', 'purchase': []},\n",
    "  '2': {'name': 'Catalá Abogados', 'email': 'catala_lawyers@email.com', 'purchase': []},\n",
    "  '3': {'name': 'Pinto & Pinto', 'email': 'pintobis@email.com', 'purchase': []},\n",
    "  '4': {'name': 'Pradival SL', 'email': 'pradivalt@email.com', 'purchase': []},\n",
    "  '5': {'name': 'Flores Sunshine', 'email': 'sunshine@email.com', 'purchase': []},\n",
    "  '6': {'name': 'Seguros Occidente ', 'email': 'occidentet@email.com', 'purchase': []},\n",
    "  '7': {'name': 'Laura Espí Amor', 'email': 'lauraea@email.com', 'purchase': []},\n",
    "  '8': {'name': 'Feber Family', 'email': 'feberf@email.com', 'purchase': []}\n",
    "}"
   ]
  },
  {
   "cell_type": "code",
   "execution_count": 180,
   "id": "36c191c4",
   "metadata": {},
   "outputs": [
    {
     "data": {
      "text/plain": [
       "{'1': {'name': 'Serrano Invest SL',\n",
       "  'email': 'sinvest@email.com',\n",
       "  'purchase': []},\n",
       " '2': {'name': 'Catalá Abogados',\n",
       "  'email': 'catala_lawyers@email.com',\n",
       "  'purchase': []},\n",
       " '3': {'name': 'Pinto & Pinto', 'email': 'pintobis@email.com', 'purchase': []},\n",
       " '4': {'name': 'Pradival SL', 'email': 'pradivalt@email.com', 'purchase': []},\n",
       " '5': {'name': 'Flores Sunshine',\n",
       "  'email': 'sunshine@email.com',\n",
       "  'purchase': []},\n",
       " '6': {'name': 'Seguros Occidente ',\n",
       "  'email': 'occidentet@email.com',\n",
       "  'purchase': []},\n",
       " '7': {'name': 'Laura Espí Amor',\n",
       "  'email': 'lauraea@email.com',\n",
       "  'purchase': []},\n",
       " '8': {'name': 'Feber Family', 'email': 'feberf@email.com', 'purchase': []}}"
      ]
     },
     "execution_count": 180,
     "metadata": {},
     "output_type": "execute_result"
    }
   ],
   "source": [
    "customers"
   ]
  },
  {
   "cell_type": "code",
   "execution_count": null,
   "id": "14d46f83",
   "metadata": {},
   "outputs": [],
   "source": [
    "## 1.3.- float iniciado con valor 0\n",
    "\n",
    "total_sales = 0.0"
   ]
  },
  {
   "cell_type": "markdown",
   "id": "83309af5",
   "metadata": {},
   "source": [
    "### 2.- FUNCIONES"
   ]
  },
  {
   "cell_type": "code",
   "execution_count": null,
   "id": "87708682",
   "metadata": {},
   "outputs": [],
   "source": [
    "## 2.1.- agregar producto\n",
    "\n",
    "def add_product(name, price, quantity):\n",
    "     for product in inventory_product:\n",
    "          if product['name'] == name:\n",
    "               product['quantity'] += quantity\n",
    "               return f'Updated stock'\n",
    "\n",
    "     new_product ={\n",
    "               'name':name,\n",
    "               'price':price,\n",
    "               'quantity':quantity}\n",
    "     inventory_product.append(new_product)\n",
    "     return f'Added product'"
   ]
  },
  {
   "cell_type": "code",
   "execution_count": 21,
   "id": "ee841ae7",
   "metadata": {},
   "outputs": [
    {
     "data": {
      "text/plain": [
       "'Updated stock'"
      ]
     },
     "execution_count": 21,
     "metadata": {},
     "output_type": "execute_result"
    }
   ],
   "source": [
    "add_product('Printer Konica 822', 580, 2)"
   ]
  },
  {
   "cell_type": "code",
   "execution_count": 22,
   "id": "c84bf4a6",
   "metadata": {},
   "outputs": [
    {
     "data": {
      "text/plain": [
       "[{'name': 'Printer Canon 253', 'price': 690, 'quantity': 18},\n",
       " {'name': 'Printer Canon 353', 'price': 1290, 'quantity': 16},\n",
       " {'name': 'Printer Canon 553', 'price': 2090, 'quantity': 22},\n",
       " {'name': 'Printer Konica 822', 'price': 580, 'quantity': 11},\n",
       " {'name': 'Printer Konica 842', 'price': 990, 'quantity': 18},\n",
       " {'name': 'Printer Konica 862', 'price': 1390, 'quantity': 20},\n",
       " {'name': 'Printer Lexmar 62C', 'price': 440, 'quantity': 8},\n",
       " {'name': 'Printer Olivetti 92CC', 'price': 790, 'quantity': 18}]"
      ]
     },
     "execution_count": 22,
     "metadata": {},
     "output_type": "execute_result"
    }
   ],
   "source": [
    "inventory_product"
   ]
  },
  {
   "cell_type": "code",
   "execution_count": null,
   "id": "32bf1315",
   "metadata": {},
   "outputs": [],
   "source": [
    "## 2.2.- ver inventario\n",
    "\n",
    "def inventory_view(inventory_product):\n",
    "    for product in inventory_product:\n",
    "        print(f\"Name: {product['name']}, Price: ${product['price']}, Quantity: {product['quantity']} units\")"
   ]
  },
  {
   "cell_type": "code",
   "execution_count": 24,
   "id": "0f646ac3",
   "metadata": {},
   "outputs": [
    {
     "name": "stdout",
     "output_type": "stream",
     "text": [
      "Name: Printer Canon 253, Price: $690, Quantity: 18 units\n",
      "Name: Printer Canon 353, Price: $1290, Quantity: 16 units\n",
      "Name: Printer Canon 553, Price: $2090, Quantity: 22 units\n",
      "Name: Printer Konica 822, Price: $580, Quantity: 11 units\n",
      "Name: Printer Konica 842, Price: $990, Quantity: 18 units\n",
      "Name: Printer Konica 862, Price: $1390, Quantity: 20 units\n",
      "Name: Printer Lexmar 62C, Price: $440, Quantity: 8 units\n",
      "Name: Printer Olivetti 92CC, Price: $790, Quantity: 18 units\n"
     ]
    }
   ],
   "source": [
    "inventory_view(inventory_product)"
   ]
  },
  {
   "cell_type": "code",
   "execution_count": null,
   "id": "7d169730",
   "metadata": {},
   "outputs": [],
   "source": [
    "## 2.3.- buscar producto\n",
    "\n",
    "def search_product(name):\n",
    "    for product in inventory_product:\n",
    "        if product['name'] == name:\n",
    "            print(f\"Name: {product['name']}', Price: ${product['price']}, Quantity: {product['quantity']} units\")\n",
    "            break # si uso return me devuelve not found por cada elemento\n",
    "    else:   \n",
    "        print('Product not found')"
   ]
  },
  {
   "cell_type": "code",
   "execution_count": 26,
   "id": "cc324bf1",
   "metadata": {},
   "outputs": [
    {
     "name": "stdout",
     "output_type": "stream",
     "text": [
      "Name: Printer Lexmar 62C', Price: $440, Quantity: 8 units\n"
     ]
    }
   ],
   "source": [
    "search_product('Printer Lexmar 62C')"
   ]
  },
  {
   "cell_type": "code",
   "execution_count": null,
   "id": "7c048380",
   "metadata": {},
   "outputs": [],
   "source": [
    "## 2.4.- actualizar stock\n",
    "\n",
    "def update_stock(name, quantity):\n",
    "    for product in inventory_product:\n",
    "          if product['name'] == name:\n",
    "               product['quantity'] += quantity\n",
    "               return 'Updated stock'\n",
    "    return 'Product not found'"
   ]
  },
  {
   "cell_type": "code",
   "execution_count": 28,
   "id": "a657167e",
   "metadata": {},
   "outputs": [
    {
     "data": {
      "text/plain": [
       "'Updated stock'"
      ]
     },
     "execution_count": 28,
     "metadata": {},
     "output_type": "execute_result"
    }
   ],
   "source": [
    "update_stock('Printer Canon 253',-3)"
   ]
  },
  {
   "cell_type": "code",
   "execution_count": 29,
   "id": "6ffbfc73",
   "metadata": {},
   "outputs": [
    {
     "data": {
      "text/plain": [
       "[{'name': 'Printer Canon 253', 'price': 690, 'quantity': 15},\n",
       " {'name': 'Printer Canon 353', 'price': 1290, 'quantity': 16},\n",
       " {'name': 'Printer Canon 553', 'price': 2090, 'quantity': 22},\n",
       " {'name': 'Printer Konica 822', 'price': 580, 'quantity': 11},\n",
       " {'name': 'Printer Konica 842', 'price': 990, 'quantity': 18},\n",
       " {'name': 'Printer Konica 862', 'price': 1390, 'quantity': 20},\n",
       " {'name': 'Printer Lexmar 62C', 'price': 440, 'quantity': 8},\n",
       " {'name': 'Printer Olivetti 92CC', 'price': 790, 'quantity': 18}]"
      ]
     },
     "execution_count": 29,
     "metadata": {},
     "output_type": "execute_result"
    }
   ],
   "source": [
    "inventory_product"
   ]
  },
  {
   "cell_type": "code",
   "execution_count": null,
   "id": "d38ff7d1",
   "metadata": {},
   "outputs": [],
   "source": [
    "## 2.5.- eliminar producto\n",
    "\n",
    "def delete_product(name):\n",
    "    for product in inventory_product:\n",
    "        if product['name'] == name:\n",
    "            inventory_product.remove(product)\n",
    "            return 'Deleted product'\n",
    "    return 'Product not found'"
   ]
  },
  {
   "cell_type": "code",
   "execution_count": 31,
   "id": "bbafb702",
   "metadata": {},
   "outputs": [
    {
     "data": {
      "text/plain": [
       "'Deleted product'"
      ]
     },
     "execution_count": 31,
     "metadata": {},
     "output_type": "execute_result"
    }
   ],
   "source": [
    "delete_product('Printer Konica 862')"
   ]
  },
  {
   "cell_type": "code",
   "execution_count": 32,
   "id": "1d96a127",
   "metadata": {},
   "outputs": [
    {
     "data": {
      "text/plain": [
       "[{'name': 'Printer Canon 253', 'price': 690, 'quantity': 15},\n",
       " {'name': 'Printer Canon 353', 'price': 1290, 'quantity': 16},\n",
       " {'name': 'Printer Canon 553', 'price': 2090, 'quantity': 22},\n",
       " {'name': 'Printer Konica 822', 'price': 580, 'quantity': 11},\n",
       " {'name': 'Printer Konica 842', 'price': 990, 'quantity': 18},\n",
       " {'name': 'Printer Lexmar 62C', 'price': 440, 'quantity': 8},\n",
       " {'name': 'Printer Olivetti 92CC', 'price': 790, 'quantity': 18}]"
      ]
     },
     "execution_count": 32,
     "metadata": {},
     "output_type": "execute_result"
    }
   ],
   "source": [
    "inventory_product"
   ]
  },
  {
   "cell_type": "code",
   "execution_count": 33,
   "id": "a0ea235d",
   "metadata": {},
   "outputs": [
    {
     "data": {
      "text/plain": [
       "'Product not found'"
      ]
     },
     "execution_count": 33,
     "metadata": {},
     "output_type": "execute_result"
    }
   ],
   "source": [
    "delete_product('Printer HP C476')"
   ]
  },
  {
   "cell_type": "code",
   "execution_count": null,
   "id": "b285454a",
   "metadata": {},
   "outputs": [],
   "source": [
    "## 2.6.- calcular valor inventario\n",
    "\n",
    "def value_calculator(inventory_product):\n",
    "    total_value = 0  #contador\n",
    "    for product in inventory_product:\n",
    "        product_value = product['quantity'] * product['price']\n",
    "        total_value += product_value\n",
    "    return total_value"
   ]
  },
  {
   "cell_type": "code",
   "execution_count": 35,
   "id": "cdbba155",
   "metadata": {},
   "outputs": [
    {
     "name": "stdout",
     "output_type": "stream",
     "text": [
      "El valor total del inventario es: $ 118910\n"
     ]
    }
   ],
   "source": [
    "value_calculator(inventory_product)\n",
    "total_value = value_calculator(inventory_product)\n",
    "print('El valor total del inventario es:','$',total_value)"
   ]
  },
  {
   "cell_type": "code",
   "execution_count": null,
   "id": "5723f988",
   "metadata": {},
   "outputs": [],
   "source": [
    "## 2.7.- realizar compra\n",
    "\n",
    "# 1º - Mostrar el inventario y preguntar qué quiere comprar\n",
    "\n",
    "def make_purchase():\n",
    "    shopping_cart= []   # lista carrito (diccionario vacío)\n",
    "\n",
    "    while True:\n",
    "        print(inventory_product)\n",
    "        for product in inventory_product:\n",
    "            print(f\" {product['name']} // Availabe: {product['quantity']} // Price: {product['price']}\")\n",
    "\n",
    "        option = input('Hola, escribe el nombre del producto que deseas o \"nada\" para salir: ').strip().lower()\n",
    "        \n",
    "        if option == \"nada\":\n",
    "            print(\"Hasta las próxima.\")\n",
    "            break\n",
    "\n",
    "        else:\n",
    "            cantidad = int(input('¿Cuántos quieres?'))\n",
    "            for product in inventory_product:\n",
    "                if product['quantity'] >= cantidad:  # Comprobar que hay suficiente stock, >= que lo que ha pedido\n",
    "                    shopping_cart[option] = ({\n",
    "                        'name': option,\n",
    "                        'price':product['price'],\n",
    "                        'cantidad': cantidad,\n",
    "                        'to pay': product['price'] * cantidad  # valor de la compra\n",
    "                        })\n",
    "                    shopping_cart.append(shopping_cart[option]) # añadir al carrito\n",
    "                    print(f'Has añadido {shopping_cart[option]} a tu carrito')            \n",
    "                else:\n",
    "                    print(f'No hay stock suficiente de {option} disponible')\n",
    "                    break"
   ]
  },
  {
   "cell_type": "code",
   "execution_count": 104,
   "id": "0b4c0763",
   "metadata": {},
   "outputs": [
    {
     "name": "stdout",
     "output_type": "stream",
     "text": [
      "[{'name': 'Printer Canon 253', 'price': 690, 'quantity': 2}, {'name': 'Printer Canon 353', 'price': 1290, 'quantity': 3}, {'name': 'Printer Canon 553', 'price': 2090, 'quantity': 9}, {'name': 'Printer Konica 822', 'price': 580, 'quantity': 0}, {'name': 'Printer Konica 842', 'price': 990, 'quantity': 7}, {'name': 'Printer Lexmar 62C', 'price': 440, 'quantity': 0}, {'name': 'Printer Olivetti 92CC', 'price': 790, 'quantity': 7}]\n",
      " Printer Canon 253 // Availabe: 2 // Price: 690\n",
      " Printer Canon 353 // Availabe: 3 // Price: 1290\n",
      " Printer Canon 553 // Availabe: 9 // Price: 2090\n",
      " Printer Konica 822 // Availabe: 0 // Price: 580\n",
      " Printer Konica 842 // Availabe: 7 // Price: 990\n",
      " Printer Lexmar 62C // Availabe: 0 // Price: 440\n",
      " Printer Olivetti 92CC // Availabe: 7 // Price: 790\n"
     ]
    },
    {
     "ename": "TypeError",
     "evalue": "list indices must be integers or slices, not str",
     "output_type": "error",
     "traceback": [
      "\u001b[31m---------------------------------------------------------------------------\u001b[39m",
      "\u001b[31mTypeError\u001b[39m                                 Traceback (most recent call last)",
      "\u001b[36mCell\u001b[39m\u001b[36m \u001b[39m\u001b[32mIn[104]\u001b[39m\u001b[32m, line 1\u001b[39m\n\u001b[32m----> \u001b[39m\u001b[32m1\u001b[39m \u001b[43mmake_purchase\u001b[49m\u001b[43m(\u001b[49m\u001b[43m)\u001b[49m\n",
      "\u001b[36mCell\u001b[39m\u001b[36m \u001b[39m\u001b[32mIn[103]\u001b[39m\u001b[32m, line 23\u001b[39m, in \u001b[36mmake_purchase\u001b[39m\u001b[34m()\u001b[39m\n\u001b[32m     21\u001b[39m \u001b[38;5;28;01mfor\u001b[39;00m product \u001b[38;5;129;01min\u001b[39;00m inventory_product:\n\u001b[32m     22\u001b[39m     \u001b[38;5;28;01mif\u001b[39;00m product[\u001b[33m'\u001b[39m\u001b[33mquantity\u001b[39m\u001b[33m'\u001b[39m] >= cantidad:  \u001b[38;5;66;03m# Comprobar que hay suficiente stock, >= que lo que ha pedido\u001b[39;00m\n\u001b[32m---> \u001b[39m\u001b[32m23\u001b[39m         \u001b[43mshopping_cart\u001b[49m\u001b[43m[\u001b[49m\u001b[43moption\u001b[49m\u001b[43m]\u001b[49m = ({\n\u001b[32m     24\u001b[39m             \u001b[33m'\u001b[39m\u001b[33mname\u001b[39m\u001b[33m'\u001b[39m: option,\n\u001b[32m     25\u001b[39m             \u001b[33m'\u001b[39m\u001b[33mprice\u001b[39m\u001b[33m'\u001b[39m:product[\u001b[33m'\u001b[39m\u001b[33mprice\u001b[39m\u001b[33m'\u001b[39m],\n\u001b[32m     26\u001b[39m             \u001b[33m'\u001b[39m\u001b[33mcantidad\u001b[39m\u001b[33m'\u001b[39m: cantidad,\n\u001b[32m     27\u001b[39m             \u001b[33m'\u001b[39m\u001b[33mto pay\u001b[39m\u001b[33m'\u001b[39m: product[\u001b[33m'\u001b[39m\u001b[33mprice\u001b[39m\u001b[33m'\u001b[39m] * cantidad\n\u001b[32m     28\u001b[39m             })\n\u001b[32m     29\u001b[39m         shopping_cart.append(shopping_cart[option]) \u001b[38;5;66;03m# añadir al carrito\u001b[39;00m\n\u001b[32m     30\u001b[39m         \u001b[38;5;28mprint\u001b[39m(\u001b[33mf\u001b[39m\u001b[33m'\u001b[39m\u001b[33mHas añadido \u001b[39m\u001b[38;5;132;01m{\u001b[39;00mshopping_cart[option]\u001b[38;5;132;01m}\u001b[39;00m\u001b[33m a tu carrito\u001b[39m\u001b[33m'\u001b[39m)            \n",
      "\u001b[31mTypeError\u001b[39m: list indices must be integers or slices, not str"
     ]
    }
   ],
   "source": [
    "make_purchase()"
   ]
  },
  {
   "cell_type": "markdown",
   "id": "ae2d42b6",
   "metadata": {},
   "source": [
    "### 3.- BONUS"
   ]
  },
  {
   "cell_type": "code",
   "execution_count": null,
   "id": "e901d877",
   "metadata": {},
   "outputs": [],
   "source": [
    "## 3.1. - procesar pago"
   ]
  },
  {
   "cell_type": "code",
   "execution_count": 188,
   "id": "fe59cb09",
   "metadata": {},
   "outputs": [],
   "source": [
    "## 3.2. - agregar cliente \n",
    "\n",
    "customers = {\n",
    "  '1': {'name': 'Serrano Invest SL', 'email': 'sinvest@email.com', 'purchase': []},\n",
    "  '2': {'name': 'Catalá Abogados', 'email': 'catala_lawyers@email.com', 'purchase': []},\n",
    "  '3': {'name': 'Pinto & Pinto', 'email': 'pintobis@email.com', 'purchase': []},\n",
    "  '4': {'name': 'Pradival SL', 'email': 'pradivalt@email.com', 'purchase': []},\n",
    "  '5': {'name': 'Flores Sunshine', 'email': 'sunshine@email.com', 'purchase': []},\n",
    "  '6': {'name': 'Seguros Occidente ', 'email': 'occidentet@email.com', 'purchase': []},\n",
    "  '7': {'name': 'Laura Espí Amor', 'email': 'lauraea@email.com', 'purchase': []},\n",
    "  '8': {'name': 'Feber Family', 'email': 'feberf@email.com', 'purchase': []}\n",
    "}\n",
    "\n",
    "def add_customer(name, email, purchase):\n",
    "    for customer in customers.values():\n",
    "        if customer['name'] == name or customer['email'] == email:\n",
    "           return 'Customer exists'\n",
    "        else:\n",
    "            [new_key] = f'{len(customers) + 1}'\n",
    "            customers[new_key] = {\n",
    "                'name':name,\n",
    "                'email':email,\n",
    "                'purchase':purchase\n",
    "                }\n",
    "            return 'Customer added'           "
   ]
  },
  {
   "cell_type": "code",
   "execution_count": 189,
   "id": "1154e056",
   "metadata": {},
   "outputs": [
    {
     "data": {
      "text/plain": [
       "'Customer added'"
      ]
     },
     "execution_count": 189,
     "metadata": {},
     "output_type": "execute_result"
    }
   ],
   "source": [
    "add_customer('Finca Elegidos', 'elegidos@email.com', [])"
   ]
  },
  {
   "cell_type": "code",
   "execution_count": 190,
   "id": "06e7baa8",
   "metadata": {},
   "outputs": [
    {
     "name": "stdout",
     "output_type": "stream",
     "text": [
      "{'1': {'name': 'Serrano Invest SL', 'email': 'sinvest@email.com', 'purchase': []}, '2': {'name': 'Catalá Abogados', 'email': 'catala_lawyers@email.com', 'purchase': []}, '3': {'name': 'Pinto & Pinto', 'email': 'pintobis@email.com', 'purchase': []}, '4': {'name': 'Pradival SL', 'email': 'pradivalt@email.com', 'purchase': []}, '5': {'name': 'Flores Sunshine', 'email': 'sunshine@email.com', 'purchase': []}, '6': {'name': 'Seguros Occidente ', 'email': 'occidentet@email.com', 'purchase': []}, '7': {'name': 'Laura Espí Amor', 'email': 'lauraea@email.com', 'purchase': []}, '8': {'name': 'Feber Family', 'email': 'feberf@email.com', 'purchase': []}, '9': {'name': 'Finca Elegidos', 'email': 'elegidos@email.com', 'purchase': []}}\n"
     ]
    }
   ],
   "source": [
    "print(customers)"
   ]
  },
  {
   "cell_type": "code",
   "execution_count": 186,
   "id": "a468ce15",
   "metadata": {},
   "outputs": [],
   "source": [
    "## 3.3. - ver clientes\n",
    "\n",
    "def customer_list():\n",
    "    for customer in customers.values():\n",
    "        print(f\"Nombre: {customer['name']}, Correo electrónico: {customer['email']}\")"
   ]
  },
  {
   "cell_type": "code",
   "execution_count": 191,
   "id": "56decc96",
   "metadata": {},
   "outputs": [
    {
     "name": "stdout",
     "output_type": "stream",
     "text": [
      "Nombre: Serrano Invest SL, Correo electrónico: sinvest@email.com\n",
      "Nombre: Catalá Abogados, Correo electrónico: catala_lawyers@email.com\n",
      "Nombre: Pinto & Pinto, Correo electrónico: pintobis@email.com\n",
      "Nombre: Pradival SL, Correo electrónico: pradivalt@email.com\n",
      "Nombre: Flores Sunshine, Correo electrónico: sunshine@email.com\n",
      "Nombre: Seguros Occidente , Correo electrónico: occidentet@email.com\n",
      "Nombre: Laura Espí Amor, Correo electrónico: lauraea@email.com\n",
      "Nombre: Feber Family, Correo electrónico: feberf@email.com\n",
      "Nombre: Finca Elegidos, Correo electrónico: elegidos@email.com\n",
      "None\n"
     ]
    }
   ],
   "source": [
    "print(customer_list())"
   ]
  },
  {
   "cell_type": "code",
   "execution_count": null,
   "id": "120af708",
   "metadata": {},
   "outputs": [],
   "source": [
    "## 3.4 - registrar compra"
   ]
  }
 ],
 "metadata": {
  "kernelspec": {
   "display_name": "Python 3",
   "language": "python",
   "name": "python3"
  },
  "language_info": {
   "codemirror_mode": {
    "name": "ipython",
    "version": 3
   },
   "file_extension": ".py",
   "mimetype": "text/x-python",
   "name": "python",
   "nbconvert_exporter": "python",
   "pygments_lexer": "ipython3",
   "version": "3.13.3"
  }
 },
 "nbformat": 4,
 "nbformat_minor": 5
}
