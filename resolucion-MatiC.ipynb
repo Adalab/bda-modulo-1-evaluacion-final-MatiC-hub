{
 "cells": [
  {
   "cell_type": "markdown",
   "id": "6f41fed5",
   "metadata": {},
   "source": [
    "## EVALUACIÓN FINAL MÓDULO 1"
   ]
  }
 ],
 "metadata": {
  "language_info": {
   "name": "python"
  }
 },
 "nbformat": 4,
 "nbformat_minor": 5
}
