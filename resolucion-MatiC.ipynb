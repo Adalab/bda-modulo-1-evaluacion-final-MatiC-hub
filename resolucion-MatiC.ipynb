{
 "cells": [
  {
   "cell_type": "markdown",
   "id": "6f41fed5",
   "metadata": {},
   "source": [
    "## EVALUACIÓN FINAL MÓDULO 1"
   ]
  },
  {
   "cell_type": "markdown",
   "id": "24e654df",
   "metadata": {},
   "source": [
    "### ESTRUCTURA"
   ]
  },
  {
   "cell_type": "code",
   "execution_count": 3,
   "id": "cc6ead43",
   "metadata": {},
   "outputs": [],
   "source": [
    "## LISTA DE DICCIONARIOS\n",
    "\n",
    "inventory_product = []"
   ]
  },
  {
   "cell_type": "code",
   "execution_count": 4,
   "id": "f984b889",
   "metadata": {},
   "outputs": [],
   "source": [
    "inventory_product = [\n",
    "    {'name': 'Printer Canon 253', 'price': 690, 'quantity': 18},\n",
    "    {'name': 'Printer Canon 353', 'price': 1290, 'quantity': 16},\n",
    "    {'name': 'Printer Canon 553', 'price': 2090, 'quantity': 22},\n",
    "    {'name': 'Printer Konica 822', 'price': 580, 'quantity': 9},\n",
    "    {'name': 'Printer Konica 842', 'price': 990, 'quantity': 18},\n",
    "    {'name': 'Printer Konica 862', 'price': 1390, 'quantity': 20},\n",
    "    {'name': 'Printer Lexmar 62C', 'price': 440, 'quantity': 8},\n",
    "    {'name': 'Printer Olivetti 92CC', 'price': 790, 'quantity': 18},\n",
    "    ]"
   ]
  },
  {
   "cell_type": "code",
   "execution_count": 5,
   "id": "d9ddaf5f",
   "metadata": {},
   "outputs": [
    {
     "data": {
      "text/plain": [
       "[{'name': 'Printer Canon 253', 'price': 690, 'quantity': 18},\n",
       " {'name': 'Printer Canon 353', 'price': 1290, 'quantity': 16},\n",
       " {'name': 'Printer Canon 553', 'price': 2090, 'quantity': 22},\n",
       " {'name': 'Printer Konica 822', 'price': 580, 'quantity': 9},\n",
       " {'name': 'Printer Konica 842', 'price': 990, 'quantity': 18},\n",
       " {'name': 'Printer Konica 862', 'price': 1390, 'quantity': 20},\n",
       " {'name': 'Printer Lexmar 62C', 'price': 440, 'quantity': 8},\n",
       " {'name': 'Printer Olivetti 92CC', 'price': 790, 'quantity': 18}]"
      ]
     },
     "execution_count": 5,
     "metadata": {},
     "output_type": "execute_result"
    }
   ],
   "source": [
    "inventory_product"
   ]
  },
  {
   "cell_type": "code",
   "execution_count": 6,
   "id": "055ee500",
   "metadata": {},
   "outputs": [],
   "source": [
    "## DICCIONARIO\n",
    "\n",
    "customers = {}"
   ]
  },
  {
   "cell_type": "code",
   "execution_count": 7,
   "id": "0db7fb64",
   "metadata": {},
   "outputs": [],
   "source": [
    "customers = {\n",
    "  'c1': {'name': 'Serrano Invest SL', 'email': 'sinvest@email.com', 'purchase': []},\n",
    "  'c2': {'name': 'Catalá Abogados', 'email': 'catala_lawyers@email.com', 'purchase': []},\n",
    "  'c3': {'name': 'Pinto & Pinto', 'email': 'pintobis@email.com', 'purchase': []},\n",
    "  'c4': {'name': 'Pradival SL', 'email': 'pradivalt@email.com', 'purchase': []},\n",
    "  'c5': {'name': 'Flores Sunshine', 'email': 'sunshine@email.com', 'purchase': []},\n",
    "  'c6': {'name': 'Seguros Occidente ', 'email': 'occidentet@email.com', 'purchase': []},\n",
    "  'c7': {'name': 'Laura Espí Amor', 'email': 'lauraea@email.com', 'purchase': []},\n",
    "  'c8': {'name': 'Feber Family', 'email': 'feberf@email.com', 'purchase': []}\n",
    "}"
   ]
  },
  {
   "cell_type": "code",
   "execution_count": 8,
   "id": "36c191c4",
   "metadata": {},
   "outputs": [
    {
     "data": {
      "text/plain": [
       "{'c1': {'name': 'Serrano Invest SL',\n",
       "  'email': 'sinvest@email.com',\n",
       "  'purchase': []},\n",
       " 'c2': {'name': 'Catalá Abogados',\n",
       "  'email': 'catala_lawyers@email.com',\n",
       "  'purchase': []},\n",
       " 'c3': {'name': 'Pinto & Pinto',\n",
       "  'email': 'pintobis@email.com',\n",
       "  'purchase': []},\n",
       " 'c4': {'name': 'Pradival SL', 'email': 'pradivalt@email.com', 'purchase': []},\n",
       " 'c5': {'name': 'Flores Sunshine',\n",
       "  'email': 'sunshine@email.com',\n",
       "  'purchase': []},\n",
       " 'c6': {'name': 'Seguros Occidente ',\n",
       "  'email': 'occidentet@email.com',\n",
       "  'purchase': []},\n",
       " 'c7': {'name': 'Laura Espí Amor',\n",
       "  'email': 'lauraea@email.com',\n",
       "  'purchase': []},\n",
       " 'c8': {'name': 'Feber Family', 'email': 'feberf@email.com', 'purchase': []}}"
      ]
     },
     "execution_count": 8,
     "metadata": {},
     "output_type": "execute_result"
    }
   ],
   "source": [
    "customers"
   ]
  },
  {
   "cell_type": "code",
   "execution_count": 9,
   "id": "14d46f83",
   "metadata": {},
   "outputs": [],
   "source": [
    "## float iniciado con valor 0\n",
    "\n",
    "total_sales = 0.0"
   ]
  },
  {
   "cell_type": "markdown",
   "id": "83309af5",
   "metadata": {},
   "source": [
    "### FUNCIONES"
   ]
  },
  {
   "cell_type": "code",
   "execution_count": 10,
   "id": "87708682",
   "metadata": {},
   "outputs": [],
   "source": [
    "## agregar producto\n",
    "\n",
    "def add_product(name, price, quantity):\n",
    "     for product in inventory_product:\n",
    "          if product['name'] == name:\n",
    "               product['quantity'] += quantity\n",
    "               return f'Updated stock'\n",
    "\n",
    "     new_product ={\n",
    "               'name':name,\n",
    "               'price':price,\n",
    "               'quantity':quantity}\n",
    "     inventory_product.append(new_product)\n",
    "     return f'Added product'"
   ]
  },
  {
   "cell_type": "code",
   "execution_count": 11,
   "id": "ee841ae7",
   "metadata": {},
   "outputs": [
    {
     "data": {
      "text/plain": [
       "'Updated stock'"
      ]
     },
     "execution_count": 11,
     "metadata": {},
     "output_type": "execute_result"
    }
   ],
   "source": [
    "add_product('Printer Konica 822', 580, 2)"
   ]
  },
  {
   "cell_type": "code",
   "execution_count": 12,
   "id": "c84bf4a6",
   "metadata": {},
   "outputs": [
    {
     "data": {
      "text/plain": [
       "[{'name': 'Printer Canon 253', 'price': 690, 'quantity': 18},\n",
       " {'name': 'Printer Canon 353', 'price': 1290, 'quantity': 16},\n",
       " {'name': 'Printer Canon 553', 'price': 2090, 'quantity': 22},\n",
       " {'name': 'Printer Konica 822', 'price': 580, 'quantity': 11},\n",
       " {'name': 'Printer Konica 842', 'price': 990, 'quantity': 18},\n",
       " {'name': 'Printer Konica 862', 'price': 1390, 'quantity': 20},\n",
       " {'name': 'Printer Lexmar 62C', 'price': 440, 'quantity': 8},\n",
       " {'name': 'Printer Olivetti 92CC', 'price': 790, 'quantity': 18}]"
      ]
     },
     "execution_count": 12,
     "metadata": {},
     "output_type": "execute_result"
    }
   ],
   "source": [
    "inventory_product"
   ]
  },
  {
   "cell_type": "code",
   "execution_count": 13,
   "id": "32bf1315",
   "metadata": {},
   "outputs": [],
   "source": [
    "## ver inventario\n",
    "\n",
    "def inventory_view(inventory_product):\n",
    "    for product in inventory_product:\n",
    "        print(f\"Name: {product['name']}, Price: ${product['price']}, Quantity: {product['quantity']} units\")"
   ]
  },
  {
   "cell_type": "code",
   "execution_count": 14,
   "id": "0f646ac3",
   "metadata": {},
   "outputs": [
    {
     "name": "stdout",
     "output_type": "stream",
     "text": [
      "Name: Printer Canon 253, Price: $690, Quantity: 18 units\n",
      "Name: Printer Canon 353, Price: $1290, Quantity: 16 units\n",
      "Name: Printer Canon 553, Price: $2090, Quantity: 22 units\n",
      "Name: Printer Konica 822, Price: $580, Quantity: 11 units\n",
      "Name: Printer Konica 842, Price: $990, Quantity: 18 units\n",
      "Name: Printer Konica 862, Price: $1390, Quantity: 20 units\n",
      "Name: Printer Lexmar 62C, Price: $440, Quantity: 8 units\n",
      "Name: Printer Olivetti 92CC, Price: $790, Quantity: 18 units\n"
     ]
    }
   ],
   "source": [
    "inventory_view(inventory_product)"
   ]
  },
  {
   "cell_type": "code",
   "execution_count": 15,
   "id": "7d169730",
   "metadata": {},
   "outputs": [],
   "source": [
    "## buscar producto\n",
    "\n",
    "def search_product(name):\n",
    "    for product in inventory_product:\n",
    "        if product['name'] == name:\n",
    "            print(f\"Name: {product['name']}', Price: ${product['price']}, Quantity: {product['quantity']} units\")\n",
    "            break # si uso return me devuelve not found por cada elemento\n",
    "    else:   \n",
    "        print('Product not found')"
   ]
  },
  {
   "cell_type": "code",
   "execution_count": 16,
   "id": "cc324bf1",
   "metadata": {},
   "outputs": [
    {
     "name": "stdout",
     "output_type": "stream",
     "text": [
      "Name: Printer Lexmar 62C', Price: $440, Quantity: 8 units\n"
     ]
    }
   ],
   "source": [
    "search_product('Printer Lexmar 62C')"
   ]
  },
  {
   "cell_type": "code",
   "execution_count": 17,
   "id": "7c048380",
   "metadata": {},
   "outputs": [],
   "source": [
    "## actualizar stock\n",
    "\n",
    "def update_stock(name, quantity):\n",
    "    for product in inventory_product:\n",
    "          if product['name'] == name:\n",
    "               product['quantity'] += quantity\n",
    "               return 'Updated stock'\n",
    "    return 'Product not found'"
   ]
  },
  {
   "cell_type": "code",
   "execution_count": 18,
   "id": "a657167e",
   "metadata": {},
   "outputs": [
    {
     "data": {
      "text/plain": [
       "'Updated stock'"
      ]
     },
     "execution_count": 18,
     "metadata": {},
     "output_type": "execute_result"
    }
   ],
   "source": [
    "update_stock('Printer Canon 253',-3)"
   ]
  },
  {
   "cell_type": "code",
   "execution_count": 19,
   "id": "6ffbfc73",
   "metadata": {},
   "outputs": [
    {
     "data": {
      "text/plain": [
       "[{'name': 'Printer Canon 253', 'price': 690, 'quantity': 15},\n",
       " {'name': 'Printer Canon 353', 'price': 1290, 'quantity': 16},\n",
       " {'name': 'Printer Canon 553', 'price': 2090, 'quantity': 22},\n",
       " {'name': 'Printer Konica 822', 'price': 580, 'quantity': 11},\n",
       " {'name': 'Printer Konica 842', 'price': 990, 'quantity': 18},\n",
       " {'name': 'Printer Konica 862', 'price': 1390, 'quantity': 20},\n",
       " {'name': 'Printer Lexmar 62C', 'price': 440, 'quantity': 8},\n",
       " {'name': 'Printer Olivetti 92CC', 'price': 790, 'quantity': 18}]"
      ]
     },
     "execution_count": 19,
     "metadata": {},
     "output_type": "execute_result"
    }
   ],
   "source": [
    "inventory_product"
   ]
  },
  {
   "cell_type": "code",
   "execution_count": 20,
   "id": "d38ff7d1",
   "metadata": {},
   "outputs": [],
   "source": [
    "## eliminar producto\n",
    "\n",
    "def delete_product(name):\n",
    "    for product in inventory_product:\n",
    "        if product['name'] == name:\n",
    "            inventory_product.remove(product)\n",
    "            return 'Deleted product'\n",
    "    return 'Product not found'"
   ]
  },
  {
   "cell_type": "code",
   "execution_count": 21,
   "id": "bbafb702",
   "metadata": {},
   "outputs": [
    {
     "data": {
      "text/plain": [
       "'Deleted product'"
      ]
     },
     "execution_count": 21,
     "metadata": {},
     "output_type": "execute_result"
    }
   ],
   "source": [
    "delete_product('Printer Konica 862')"
   ]
  },
  {
   "cell_type": "code",
   "execution_count": 22,
   "id": "1d96a127",
   "metadata": {},
   "outputs": [
    {
     "data": {
      "text/plain": [
       "[{'name': 'Printer Canon 253', 'price': 690, 'quantity': 15},\n",
       " {'name': 'Printer Canon 353', 'price': 1290, 'quantity': 16},\n",
       " {'name': 'Printer Canon 553', 'price': 2090, 'quantity': 22},\n",
       " {'name': 'Printer Konica 822', 'price': 580, 'quantity': 11},\n",
       " {'name': 'Printer Konica 842', 'price': 990, 'quantity': 18},\n",
       " {'name': 'Printer Lexmar 62C', 'price': 440, 'quantity': 8},\n",
       " {'name': 'Printer Olivetti 92CC', 'price': 790, 'quantity': 18}]"
      ]
     },
     "execution_count": 22,
     "metadata": {},
     "output_type": "execute_result"
    }
   ],
   "source": [
    "inventory_product"
   ]
  },
  {
   "cell_type": "code",
   "execution_count": 23,
   "id": "a0ea235d",
   "metadata": {},
   "outputs": [
    {
     "data": {
      "text/plain": [
       "'Product not found'"
      ]
     },
     "execution_count": 23,
     "metadata": {},
     "output_type": "execute_result"
    }
   ],
   "source": [
    "delete_product('Printer HP C476')"
   ]
  },
  {
   "cell_type": "code",
   "execution_count": 24,
   "id": "b285454a",
   "metadata": {},
   "outputs": [],
   "source": [
    "## calcular valor inventario\n",
    "\n",
    "def value_calculator(inventory_product):\n",
    "    total_value = 0  #contador\n",
    "    for product in inventory_product:\n",
    "        product_value = product['quantity'] * product['price']\n",
    "        total_value += product_value\n",
    "    return total_value"
   ]
  },
  {
   "cell_type": "code",
   "execution_count": 25,
   "id": "cdbba155",
   "metadata": {},
   "outputs": [
    {
     "name": "stdout",
     "output_type": "stream",
     "text": [
      "El valor total del inventario es: $ 118910\n"
     ]
    }
   ],
   "source": [
    "value_calculator(inventory_product)\n",
    "total_value = value_calculator(inventory_product)\n",
    "print('El valor total del inventario es:','$',total_value)"
   ]
  },
  {
   "cell_type": "code",
   "execution_count": null,
   "id": "5723f988",
   "metadata": {},
   "outputs": [],
   "source": [
    "##  realizar compra\n",
    "\n",
    "# 1º - Mostrar el inventario y preguntar qué quiere comprar\n",
    "\n",
    "while True:\n",
    "    print(inventory_product)\n",
    "    option = input('Hola, escribe el nombre del producto que deseas o \"Nada\" para salir').strip().upper()\n",
    "    ## cómo muestro los productos o elijo el name\n",
    "    for product in inventory_product:\n",
    "    if option == 'name':\n",
    "        print(f\"Has elegido:, 'name'\")\n",
    "    elif option == \"Nada\":\n",
    "        print(\"Hasta las próxima.\")\n",
    "        break\n",
    "    else:\n",
    "        break"
   ]
  }
 ],
 "metadata": {
  "kernelspec": {
   "display_name": "Python 3",
   "language": "python",
   "name": "python3"
  },
  "language_info": {
   "codemirror_mode": {
    "name": "ipython",
    "version": 3
   },
   "file_extension": ".py",
   "mimetype": "text/x-python",
   "name": "python",
   "nbconvert_exporter": "python",
   "pygments_lexer": "ipython3",
   "version": "3.13.3"
  }
 },
 "nbformat": 4,
 "nbformat_minor": 5
}
